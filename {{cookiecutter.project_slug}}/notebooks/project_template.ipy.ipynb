{
 "cells": [
  {
   "cell_type": "markdown",
   "metadata": {},
   "source": [
    "----\n",
    "\n",
    "#  Project Title \n",
    "\n",
    "----"
   ]
  },
  {
   "cell_type": "markdown",
   "metadata": {},
   "source": [
    "## Dependencies\n"
   ]
  },
  {
   "cell_type": "code",
   "execution_count": 45,
   "metadata": {},
   "outputs": [],
   "source": [
    "# Routes\n",
    "import os\n",
    "import pathlib\n",
    "import fs\n",
    "# Roots\n",
    "import pyprojroot\n",
    "import pyhere\n",
    "# Data management\n",
    "import numpy as np\n",
    "import pandas as pd\n",
    "#Data visualization\n",
    "import matplotlib.pyplot as plt\n",
    "import seaborn as sns \n"
   ]
  },
  {
   "cell_type": "code",
   "execution_count": null,
   "metadata": {},
   "outputs": [],
   "source": [
    "# %load_ext autoreload\n",
    "# %autoreload 2"
   ]
  },
  {
   "cell_type": "markdown",
   "metadata": {},
   "source": [
    "### Utilities"
   ]
  },
  {
   "cell_type": "markdown",
   "metadata": {},
   "source": [
    "### OS-System dependencies\n"
   ]
  },
  {
   "cell_type": "markdown",
   "metadata": {},
   "source": [
    "#### OS-Routes"
   ]
  },
  {
   "cell_type": "code",
   "execution_count": null,
   "metadata": {},
   "outputs": [],
   "source": [
    "# Retrieve current directory\n",
    "current_dir = os.getcwd() \n",
    "\n",
    "# Parent directory\n",
    "print('current dir = \\n',os.path.abspath(os.path.join(current_dir, os.pardir))) \n",
    "# os pardir\n",
    "data_dir = os.path.join(current_dir, os.pardir, \"data/\") \n",
    "\n",
    "print('Data directory = \\n', data_dir)\n",
    "print(os.path.exists(data_dir))\n",
    "print(os.path.isdir(data_dir))"
   ]
  },
  {
   "cell_type": "code",
   "execution_count": null,
   "metadata": {},
   "outputs": [],
   "source": [
    "# Available files/folders\n",
    "available_files = [os.path.join(data_dir, item) for item in os.listdir(data_dir)]\n",
    "available_files"
   ]
  },
  {
   "cell_type": "code",
   "execution_count": null,
   "metadata": {},
   "outputs": [],
   "source": [
    "os.mkdir(os.path.join(data_dir, \"external_os\"))"
   ]
  },
  {
   "cell_type": "code",
   "execution_count": null,
   "metadata": {},
   "outputs": [],
   "source": [
    "os.makedirs(os.path.join(data_dir, \"external_os\", \"os\", \"nested\"))"
   ]
  },
  {
   "cell_type": "markdown",
   "metadata": {},
   "source": [
    "#### Pathlib"
   ]
  },
  {
   "cell_type": "code",
   "execution_count": null,
   "metadata": {},
   "outputs": [],
   "source": [
    "current_dir = pathlib.Path(\".\").resolve()\n",
    "print(type(current_dir))\n",
    "\n",
    "data_dir = current_dir.parent.joinpath(\"data\") # current_dir.parent / \"data\"\n",
    "print(data_dir)\n",
    "print(data_dir.exists())\n",
    "print(data_dir.is_dir())"
   ]
  },
  {
   "cell_type": "code",
   "execution_count": null,
   "metadata": {},
   "outputs": [],
   "source": [
    "# All available files in data_dir, you can use magiccards as in linu terminal\n",
    "list(data_dir.glob(\"*\"))"
   ]
  },
  {
   "cell_type": "code",
   "execution_count": 9,
   "metadata": {},
   "outputs": [],
   "source": [
    "# Make direcories with pathlib\n",
    "data_dir.joinpath(\"external_pathlib\", \"pathlib\", \"nested\").mkdir(parents=True, exist_ok=True)"
   ]
  },
  {
   "cell_type": "markdown",
   "metadata": {},
   "source": [
    "#### FS"
   ]
  },
  {
   "cell_type": "code",
   "execution_count": null,
   "metadata": {},
   "outputs": [],
   "source": [
    "# Route system connection\n",
    "current_dir = fs.open_fs(\".\")\n",
    "print(current_dir.exists(\".\"))\n",
    "current_dir.exists(\"..\")"
   ]
  },
  {
   "cell_type": "code",
   "execution_count": null,
   "metadata": {},
   "outputs": [],
   "source": [
    "# Available data files\n",
    "data_dir = fs.open_fs(\"../data\")\n",
    "print(data_dir.exists(\"\"))\n",
    "\n",
    "for path in data_dir.walk.files(): # walk.dirs\n",
    "    print(path)\n",
    "\n",
    "    with data_dir.open(path) as data_files:\n",
    "        print(data_files.readline())"
   ]
  },
  {
   "cell_type": "code",
   "execution_count": null,
   "metadata": {},
   "outputs": [],
   "source": [
    "# Make new folder/directory\n",
    "data_dir.makedir(\"external_fs\", recreate=True)"
   ]
  },
  {
   "cell_type": "code",
   "execution_count": 14,
   "metadata": {},
   "outputs": [],
   "source": [
    "# Make sub new folder/directory\n",
    "sub_data_dir = data_dir.makedirs(\"external_fs/fs/nested\", recreate=True)"
   ]
  },
  {
   "cell_type": "markdown",
   "metadata": {},
   "source": [
    "#### Project root creation"
   ]
  },
  {
   "cell_type": "code",
   "execution_count": null,
   "metadata": {},
   "outputs": [],
   "source": [
    "# Indicates the route for an specified folder\n",
    "pyhere.here(\"data\", \"raw\")\n",
    "pyhere.here()"
   ]
  },
  {
   "cell_type": "markdown",
   "metadata": {},
   "source": [
    "#### Custom Shortcuts"
   ]
  },
  {
   "cell_type": "code",
   "execution_count": 48,
   "metadata": {},
   "outputs": [],
   "source": [
    "# Nested function.\n",
    "def make_dir_function(dir_name):\n",
    "    def dir_function(*args):\n",
    "\n",
    "        if isinstance(dir_name, str):\n",
    "            return pyprojroot.here().joinpath(dir_name, *args)\n",
    "        else:\n",
    "            return pyprojroot.here().joinpath(*dir_name, *args)\n",
    "\n",
    "    return dir_function\n",
    "\n",
    "# Nested lambda.\n",
    "make_dir_function_lambda = lambda dir_name: lambda *args: pyprojroot.here().joinpath(dir_name, *args)"
   ]
  },
  {
   "cell_type": "code",
   "execution_count": null,
   "metadata": {},
   "outputs": [],
   "source": [
    "data_dir = make_dir_function(\"data\")\n",
    "data_dir(\"external\", \"os\", \"do\")"
   ]
  },
  {
   "cell_type": "code",
   "execution_count": null,
   "metadata": {},
   "outputs": [],
   "source": [
    "figures_dir = make_dir_function_lambda(\"figures\")\n",
    "figures_dir(\"amazing\", \"plots\", \"here\")"
   ]
  }
 ],
 "metadata": {
  "interpreter": {
   "hash": "3667fd0dbc297d5226e7ef1885d67dce146a156d511bfd89bb3a337a239de6a8"
  },
  "kernelspec": {
   "display_name": "Python 3.9.6 64-bit ('paths_management_platzi': conda)",
   "name": "python3"
  },
  "language_info": {
   "codemirror_mode": {
    "name": "ipython",
    "version": 3
   },
   "file_extension": ".py",
   "mimetype": "text/x-python",
   "name": "python",
   "nbconvert_exporter": "python",
   "pygments_lexer": "ipython3",
   "version": "3.10.9"
  },
  "orig_nbformat": 4
 },
 "nbformat": 4,
 "nbformat_minor": 2
}
